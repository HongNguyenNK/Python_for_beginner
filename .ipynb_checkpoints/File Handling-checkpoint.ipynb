{
 "cells": [
  {
   "cell_type": "markdown",
   "id": "6263accb",
   "metadata": {},
   "source": [
    "There are four different methods (modes) for opening a file: \n",
    "• \"x\" - Create - Creates the specified file, returns an error if the file exists \n",
    "• \"w\" - Write - Opens a file for writing, creates the file if it does not exist \n",
    "• \"r\" - Read - Default value. Opens a file for reading, error if the file does not exist \n",
    "• \"a\" - Append - Opens a file for appending, creates the file if it does not exist"
   ]
  },
  {
   "cell_type": "code",
   "execution_count": 1,
   "id": "88b913a2",
   "metadata": {},
   "outputs": [],
   "source": [
    "#Write Data to File\n",
    "f = open(\"hana.txt\", \"x\")\n",
    "data = \"Hello World\"\n",
    "f.write(data)\n",
    "f.close()"
   ]
  },
  {
   "cell_type": "code",
   "execution_count": 3,
   "id": "ed8e8c03",
   "metadata": {},
   "outputs": [
    {
     "name": "stdout",
     "output_type": "stream",
     "text": [
      "Hello World\n"
     ]
    }
   ],
   "source": [
    "# Read Data from File\n",
    "f = open(\"hana.txt\", \"r\")\n",
    "data = f.read()\n",
    "print(data)\n",
    "f.close()"
   ]
  },
  {
   "cell_type": "code",
   "execution_count": 5,
   "id": "e9491d18",
   "metadata": {},
   "outputs": [],
   "source": [
    "#Logging Data to File\n",
    "data = [1,2,3,4,5,6]\n",
    "f = open(\"logdata.txt\", \"x\")\n",
    "for value in data:\n",
    "      record = str(value)\n",
    "      f.write(record)\n",
    "      f.write(\"\\n\") # add new line\n",
    "f.close()"
   ]
  },
  {
   "cell_type": "code",
   "execution_count": 7,
   "id": "fcace444",
   "metadata": {},
   "outputs": [
    {
     "name": "stdout",
     "output_type": "stream",
     "text": [
      "1\n",
      "2\n",
      "3\n",
      "4\n",
      "5\n",
      "6\n"
     ]
    }
   ],
   "source": [
    "#Read Logged Data from File:\n",
    "\n",
    "f = open(\"logdata.txt\", \"r\")\n",
    "for record in f:\n",
    "    record = record.replace(\"\\n\", \"\")\n",
    "    print(record)\n",
    "f.close()"
   ]
  },
  {
   "cell_type": "code",
   "execution_count": 8,
   "id": "f18de008",
   "metadata": {},
   "outputs": [
    {
     "data": {
      "image/png": "[encoded data removed]",
      "text/plain": [
       "<Figure size 432x288 with 1 Axes>"
      ]
     },
     "metadata": {
      "needs_background": "light"
     },
     "output_type": "display_data"
    }
   ],
   "source": [
    "import math as mt\n",
    "import numpy as np\n",
    "import matplotlib.pyplot as plt\n",
    "# Open File\n",
    "f = open(\"simdata.txt\", \"w\")\n",
    "def writedata(t, x):\n",
    "    time = str(t)\n",
    "    value = str(round(x, 2))\n",
    "    f.write(time + \"\\t\" + value)\n",
    "    f.write(\"\\n\")\n",
    "# Model Parameters\n",
    "T = 5\n",
    "a = -1/T\n",
    "# Simulation Parameters\n",
    "x0 = 1\n",
    "t = 0\n",
    "tstart = 0\n",
    "tstop = 25\n",
    "increment = 1\n",
    "x = []\n",
    "x = np.zeros(tstop+1)\n",
    "t = np.arange(tstart,tstop+1,increment)\n",
    "for k in range(tstop):\n",
    "    x[k] = mt.exp(a*t[k]) * x0\n",
    "    writedata(t[k], x[k])\n",
    "f.close()\n",
    "# Plot the Simulation Results\n",
    "plt.plot(t,x)\n",
    "plt.title('Simulation of Dynamic System')\n",
    "plt.xlabel('t')\n",
    "plt.ylabel('x')\n",
    "plt.grid()\n",
    "plt.axis([0, 25, 0, 1])\n",
    "plt.show()"
   ]
  },
  {
   "cell_type": "code",
   "execution_count": null,
   "id": "0b1d8a86",
   "metadata": {},
   "outputs": [],
   "source": []
  }
 ],
 "metadata": {
  "kernelspec": {
   "display_name": "Python 3",
   "language": "python",
   "name": "python3"
  },
  "language_info": {
   "codemirror_mode": {
    "name": "ipython",
    "version": 3
   },
   "file_extension": ".py",
   "mimetype": "text/x-python",
   "name": "python",
   "nbconvert_exporter": "python",
   "pygments_lexer": "ipython3",
   "version": "3.7.10"
  }
 },
 "nbformat": 4,
 "nbformat_minor": 5
}
